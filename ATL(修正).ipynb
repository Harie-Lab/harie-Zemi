{
  "nbformat": 4,
  "nbformat_minor": 0,
  "metadata": {
    "colab": {
      "provenance": [],
      "authorship_tag": "ABX9TyNM4DVZYIBa4EJDpmQ6xexS",
      "include_colab_link": true
    },
    "kernelspec": {
      "name": "python3",
      "display_name": "Python 3"
    },
    "language_info": {
      "name": "python"
    }
  },
  "cells": [
    {
      "cell_type": "markdown",
      "metadata": {
        "id": "view-in-github",
        "colab_type": "text"
      },
      "source": [
        "<a href=\"https://colab.research.google.com/github/Harie-Lab/harie-Zemi/blob/main/ATL(%E4%BF%AE%E6%AD%A3).ipynb\" target=\"_parent\"><img src=\"https://colab.research.google.com/assets/colab-badge.svg\" alt=\"Open In Colab\"/></a>"
      ]
    },
    {
      "cell_type": "code",
      "execution_count": null,
      "metadata": {
        "colab": {
          "base_uri": "https://localhost:8080/"
        },
        "id": "xwLdKedCwwUZ",
        "outputId": "69c03792-2993-408e-b624-969c23f4a854"
      },
      "outputs": [
        {
          "output_type": "stream",
          "name": "stdout",
          "text": [
            "Looking in indexes: https://pypi.org/simple, https://us-python.pkg.dev/colab-wheels/public/simple/\n",
            "Looking in links: https://download.pytorch.org/whl/torch_stable.html\n",
            "\u001b[31mERROR: Could not find a version that satisfies the requirement torch===1.6.0 (from versions: 1.7.1, 1.7.1+cpu, 1.7.1+cu101, 1.7.1+cu110, 1.7.1+cu92, 1.7.1+rocm3.7, 1.7.1+rocm3.8, 1.8.0, 1.8.0+cpu, 1.8.0+cu101, 1.8.0+cu111, 1.8.0+rocm3.10, 1.8.0+rocm4.0.1, 1.8.1, 1.8.1+cpu, 1.8.1+cu101, 1.8.1+cu102, 1.8.1+cu111, 1.8.1+rocm3.10, 1.8.1+rocm4.0.1, 1.9.0, 1.9.0+cpu, 1.9.0+cu102, 1.9.0+cu111, 1.9.0+rocm4.0.1, 1.9.0+rocm4.1, 1.9.0+rocm4.2, 1.9.1, 1.9.1+cpu, 1.9.1+cu102, 1.9.1+cu111, 1.9.1+rocm4.0.1, 1.9.1+rocm4.1, 1.9.1+rocm4.2, 1.10.0, 1.10.0+cpu, 1.10.0+cu102, 1.10.0+cu111, 1.10.0+cu113, 1.10.0+rocm4.0.1, 1.10.0+rocm4.1, 1.10.0+rocm4.2, 1.10.1, 1.10.1+cpu, 1.10.1+cu102, 1.10.1+cu111, 1.10.1+cu113, 1.10.1+rocm4.0.1, 1.10.1+rocm4.1, 1.10.1+rocm4.2, 1.10.2, 1.10.2+cpu, 1.10.2+cu102, 1.10.2+cu111, 1.10.2+cu113, 1.10.2+rocm4.0.1, 1.10.2+rocm4.1, 1.10.2+rocm4.2, 1.11.0, 1.11.0+cpu, 1.11.0+cu102, 1.11.0+cu113, 1.11.0+cu115, 1.11.0+rocm4.3.1, 1.11.0+rocm4.5.2, 1.12.0, 1.12.0+cpu, 1.12.0+cu102, 1.12.0+cu113, 1.12.0+cu116, 1.12.0+rocm5.0, 1.12.0+rocm5.1.1, 1.12.1, 1.12.1+cpu, 1.12.1+cu102, 1.12.1+cu113, 1.12.1+cu116, 1.12.1+rocm5.0, 1.12.1+rocm5.1.1, 1.13.0, 1.13.0+cpu, 1.13.0+cu116, 1.13.0+cu117, 1.13.0+cu117.with.pypi.cudnn, 1.13.0+rocm5.1.1, 1.13.0+rocm5.2, 1.13.1, 1.13.1+cpu, 1.13.1+cu116, 1.13.1+cu117, 1.13.1+cu117.with.pypi.cudnn, 1.13.1+rocm5.1.1, 1.13.1+rocm5.2, 2.0.0, 2.0.0+cpu, 2.0.0+cpu.cxx11.abi, 2.0.0+cu117, 2.0.0+cu117.with.pypi.cudnn, 2.0.0+cu118, 2.0.0+rocm5.3, 2.0.0+rocm5.4.2)\u001b[0m\u001b[31m\n",
            "\u001b[0m\u001b[31mERROR: No matching distribution found for torch===1.6.0\u001b[0m\u001b[31m\n",
            "\u001b[0mLooking in indexes: https://pypi.org/simple, https://us-python.pkg.dev/colab-wheels/public/simple/\n",
            "Requirement already satisfied: pytorch-metric-learning in /usr/local/lib/python3.9/dist-packages (2.0.1)\n",
            "Requirement already satisfied: numpy in /usr/local/lib/python3.9/dist-packages (from pytorch-metric-learning) (1.22.4)\n",
            "Requirement already satisfied: tqdm in /usr/local/lib/python3.9/dist-packages (from pytorch-metric-learning) (4.65.0)\n",
            "Requirement already satisfied: torch>=1.6.0 in /usr/local/lib/python3.9/dist-packages (from pytorch-metric-learning) (1.13.1+cu116)\n",
            "Requirement already satisfied: scikit-learn in /usr/local/lib/python3.9/dist-packages (from pytorch-metric-learning) (1.2.2)\n",
            "Requirement already satisfied: typing-extensions in /usr/local/lib/python3.9/dist-packages (from torch>=1.6.0->pytorch-metric-learning) (4.5.0)\n",
            "Requirement already satisfied: scipy>=1.3.2 in /usr/local/lib/python3.9/dist-packages (from scikit-learn->pytorch-metric-learning) (1.10.1)\n",
            "Requirement already satisfied: joblib>=1.1.1 in /usr/local/lib/python3.9/dist-packages (from scikit-learn->pytorch-metric-learning) (1.1.1)\n",
            "Requirement already satisfied: threadpoolctl>=2.0.0 in /usr/local/lib/python3.9/dist-packages (from scikit-learn->pytorch-metric-learning) (3.1.0)\n",
            "Looking in indexes: https://pypi.org/simple, https://us-python.pkg.dev/colab-wheels/public/simple/\n",
            "Requirement already satisfied: pytorch-metric-learning[with-hooks] in /usr/local/lib/python3.9/dist-packages (2.0.1)\n",
            "Requirement already satisfied: scikit-learn in /usr/local/lib/python3.9/dist-packages (from pytorch-metric-learning[with-hooks]) (1.2.2)\n",
            "Requirement already satisfied: numpy in /usr/local/lib/python3.9/dist-packages (from pytorch-metric-learning[with-hooks]) (1.22.4)\n",
            "Requirement already satisfied: torch>=1.6.0 in /usr/local/lib/python3.9/dist-packages (from pytorch-metric-learning[with-hooks]) (1.13.1+cu116)\n",
            "Requirement already satisfied: tqdm in /usr/local/lib/python3.9/dist-packages (from pytorch-metric-learning[with-hooks]) (4.65.0)\n",
            "Requirement already satisfied: record-keeper>=0.9.32 in /usr/local/lib/python3.9/dist-packages (from pytorch-metric-learning[with-hooks]) (0.9.32)\n",
            "Requirement already satisfied: faiss-gpu>=1.6.3 in /usr/local/lib/python3.9/dist-packages (from pytorch-metric-learning[with-hooks]) (1.7.2)\n",
            "Requirement already satisfied: tensorboard in /usr/local/lib/python3.9/dist-packages (from pytorch-metric-learning[with-hooks]) (2.11.2)\n",
            "Requirement already satisfied: typing-extensions in /usr/local/lib/python3.9/dist-packages (from torch>=1.6.0->pytorch-metric-learning[with-hooks]) (4.5.0)\n",
            "Requirement already satisfied: threadpoolctl>=2.0.0 in /usr/local/lib/python3.9/dist-packages (from scikit-learn->pytorch-metric-learning[with-hooks]) (3.1.0)\n",
            "Requirement already satisfied: joblib>=1.1.1 in /usr/local/lib/python3.9/dist-packages (from scikit-learn->pytorch-metric-learning[with-hooks]) (1.1.1)\n",
            "Requirement already satisfied: scipy>=1.3.2 in /usr/local/lib/python3.9/dist-packages (from scikit-learn->pytorch-metric-learning[with-hooks]) (1.10.1)\n",
            "Requirement already satisfied: werkzeug>=1.0.1 in /usr/local/lib/python3.9/dist-packages (from tensorboard->pytorch-metric-learning[with-hooks]) (2.2.3)\n",
            "Requirement already satisfied: wheel>=0.26 in /usr/local/lib/python3.9/dist-packages (from tensorboard->pytorch-metric-learning[with-hooks]) (0.40.0)\n",
            "Requirement already satisfied: markdown>=2.6.8 in /usr/local/lib/python3.9/dist-packages (from tensorboard->pytorch-metric-learning[with-hooks]) (3.4.1)\n",
            "Requirement already satisfied: protobuf<4,>=3.9.2 in /usr/local/lib/python3.9/dist-packages (from tensorboard->pytorch-metric-learning[with-hooks]) (3.19.6)\n",
            "Requirement already satisfied: google-auth-oauthlib<0.5,>=0.4.1 in /usr/local/lib/python3.9/dist-packages (from tensorboard->pytorch-metric-learning[with-hooks]) (0.4.6)\n",
            "Requirement already satisfied: tensorboard-data-server<0.7.0,>=0.6.0 in /usr/local/lib/python3.9/dist-packages (from tensorboard->pytorch-metric-learning[with-hooks]) (0.6.1)\n",
            "Requirement already satisfied: grpcio>=1.24.3 in /usr/local/lib/python3.9/dist-packages (from tensorboard->pytorch-metric-learning[with-hooks]) (1.51.3)\n",
            "Requirement already satisfied: tensorboard-plugin-wit>=1.6.0 in /usr/local/lib/python3.9/dist-packages (from tensorboard->pytorch-metric-learning[with-hooks]) (1.8.1)\n",
            "Requirement already satisfied: google-auth<3,>=1.6.3 in /usr/local/lib/python3.9/dist-packages (from tensorboard->pytorch-metric-learning[with-hooks]) (2.16.2)\n",
            "Requirement already satisfied: absl-py>=0.4 in /usr/local/lib/python3.9/dist-packages (from tensorboard->pytorch-metric-learning[with-hooks]) (1.4.0)\n",
            "Requirement already satisfied: requests<3,>=2.21.0 in /usr/local/lib/python3.9/dist-packages (from tensorboard->pytorch-metric-learning[with-hooks]) (2.27.1)\n",
            "Requirement already satisfied: setuptools>=41.0.0 in /usr/local/lib/python3.9/dist-packages (from tensorboard->pytorch-metric-learning[with-hooks]) (63.4.3)\n",
            "Requirement already satisfied: rsa<5,>=3.1.4 in /usr/local/lib/python3.9/dist-packages (from google-auth<3,>=1.6.3->tensorboard->pytorch-metric-learning[with-hooks]) (4.9)\n",
            "Requirement already satisfied: pyasn1-modules>=0.2.1 in /usr/local/lib/python3.9/dist-packages (from google-auth<3,>=1.6.3->tensorboard->pytorch-metric-learning[with-hooks]) (0.2.8)\n",
            "Requirement already satisfied: cachetools<6.0,>=2.0.0 in /usr/local/lib/python3.9/dist-packages (from google-auth<3,>=1.6.3->tensorboard->pytorch-metric-learning[with-hooks]) (5.3.0)\n",
            "Requirement already satisfied: six>=1.9.0 in /usr/local/lib/python3.9/dist-packages (from google-auth<3,>=1.6.3->tensorboard->pytorch-metric-learning[with-hooks]) (1.15.0)\n",
            "Requirement already satisfied: requests-oauthlib>=0.7.0 in /usr/local/lib/python3.9/dist-packages (from google-auth-oauthlib<0.5,>=0.4.1->tensorboard->pytorch-metric-learning[with-hooks]) (1.3.1)\n",
            "Requirement already satisfied: importlib-metadata>=4.4 in /usr/local/lib/python3.9/dist-packages (from markdown>=2.6.8->tensorboard->pytorch-metric-learning[with-hooks]) (6.0.0)\n",
            "Requirement already satisfied: urllib3<1.27,>=1.21.1 in /usr/local/lib/python3.9/dist-packages (from requests<3,>=2.21.0->tensorboard->pytorch-metric-learning[with-hooks]) (1.26.15)\n",
            "Requirement already satisfied: charset-normalizer~=2.0.0 in /usr/local/lib/python3.9/dist-packages (from requests<3,>=2.21.0->tensorboard->pytorch-metric-learning[with-hooks]) (2.0.12)\n",
            "Requirement already satisfied: idna<4,>=2.5 in /usr/local/lib/python3.9/dist-packages (from requests<3,>=2.21.0->tensorboard->pytorch-metric-learning[with-hooks]) (3.4)\n",
            "Requirement already satisfied: certifi>=2017.4.17 in /usr/local/lib/python3.9/dist-packages (from requests<3,>=2.21.0->tensorboard->pytorch-metric-learning[with-hooks]) (2022.12.7)\n",
            "Requirement already satisfied: MarkupSafe>=2.1.1 in /usr/local/lib/python3.9/dist-packages (from werkzeug>=1.0.1->tensorboard->pytorch-metric-learning[with-hooks]) (2.1.2)\n",
            "Requirement already satisfied: zipp>=0.5 in /usr/local/lib/python3.9/dist-packages (from importlib-metadata>=4.4->markdown>=2.6.8->tensorboard->pytorch-metric-learning[with-hooks]) (3.15.0)\n",
            "Requirement already satisfied: pyasn1<0.5.0,>=0.4.6 in /usr/local/lib/python3.9/dist-packages (from pyasn1-modules>=0.2.1->google-auth<3,>=1.6.3->tensorboard->pytorch-metric-learning[with-hooks]) (0.4.8)\n",
            "Requirement already satisfied: oauthlib>=3.0.0 in /usr/local/lib/python3.9/dist-packages (from requests-oauthlib>=0.7.0->google-auth-oauthlib<0.5,>=0.4.1->tensorboard->pytorch-metric-learning[with-hooks]) (3.2.2)\n",
            "Looking in indexes: https://pypi.org/simple, https://us-python.pkg.dev/colab-wheels/public/simple/\n",
            "Requirement already satisfied: umap-learn in /usr/local/lib/python3.9/dist-packages (0.5.3)\n",
            "Requirement already satisfied: scipy>=1.0 in /usr/local/lib/python3.9/dist-packages (from umap-learn) (1.10.1)\n",
            "Requirement already satisfied: numpy>=1.17 in /usr/local/lib/python3.9/dist-packages (from umap-learn) (1.22.4)\n",
            "Requirement already satisfied: tqdm in /usr/local/lib/python3.9/dist-packages (from umap-learn) (4.65.0)\n",
            "Requirement already satisfied: pynndescent>=0.5 in /usr/local/lib/python3.9/dist-packages (from umap-learn) (0.5.8)\n",
            "Requirement already satisfied: numba>=0.49 in /usr/local/lib/python3.9/dist-packages (from umap-learn) (0.56.4)\n",
            "Requirement already satisfied: scikit-learn>=0.22 in /usr/local/lib/python3.9/dist-packages (from umap-learn) (1.2.2)\n",
            "Requirement already satisfied: llvmlite<0.40,>=0.39.0dev0 in /usr/local/lib/python3.9/dist-packages (from numba>=0.49->umap-learn) (0.39.1)\n",
            "Requirement already satisfied: setuptools in /usr/local/lib/python3.9/dist-packages (from numba>=0.49->umap-learn) (63.4.3)\n",
            "Requirement already satisfied: joblib>=0.11 in /usr/local/lib/python3.9/dist-packages (from pynndescent>=0.5->umap-learn) (1.1.1)\n",
            "Requirement already satisfied: threadpoolctl>=2.0.0 in /usr/local/lib/python3.9/dist-packages (from scikit-learn>=0.22->umap-learn) (3.1.0)\n"
          ]
        }
      ],
      "source": [
        "!pip install torch===1.6.0 torchvision===0.7.0 -f https://download.pytorch.org/whl/torch_stable.html\n",
        "!pip install pytorch-metric-learning\n",
        "!pip install pytorch-metric-learning[with-hooks]\n",
        "!pip install umap-learn\n",
        "\n",
        "import torch\n",
        "import torchvision\n",
        "# transform is used for basic image transformation\n",
        "import torchvision.transforms as transforms\n",
        "import torch.nn as nn\n",
        "import torch.nn.functional as F\n",
        "import torch.optim as optim\n",
        "\n",
        "#matplotlib is a plotting library to plot graphs\n",
        "import matplotlib.pyplot as plt\n",
        "import numpy as np\n",
        "\n",
        "\n",
        "from pytorch_metric_learning import losses,miners,testers\n",
        "from pytorch_metric_learning.distances import CosineSimilarity\n",
        "from pytorch_metric_learning.reducers import ThresholdReducer\n",
        "from pytorch_metric_learning.utils.accuracy_calculator import AccuracyCalculator\n",
        "\n",
        "from pytorch_metric_learning.miners import TripletMarginMiner\n",
        "from pytorch_metric_learning.distances import CosineSimilarity\n",
        "from pytorch_metric_learning.losses import TripletMarginLoss\n",
        "from pytorch_metric_learning.reducers import ThresholdReducer\n",
        "#from pytorch_metric_learning.miners import BaseTupleMiner\n",
        "from pytorch_metric_learning.miners import BaseMiner\n"
      ]
    },
    {
      "cell_type": "code",
      "source": [
        "transform = transforms.Compose(\n",
        "    [transforms.Resize((32,32)), #resize the image to height and width to 32\n",
        "    transforms.ToTensor(),        #store as tensor\n",
        "    transforms.Normalize((0.5, 0.5, 0.5), (0.5, 0.5, 0.5))\n",
        "    ]\n",
        ")"
      ],
      "metadata": {
        "id": "xyqhPz8Lw3ad",
        "outputId": "b6a7b036-d132-4337-fe87-4a2e5cc23100",
        "colab": {
          "base_uri": "https://localhost:8080/",
          "height": 245
        }
      },
      "execution_count": null,
      "outputs": [
        {
          "output_type": "error",
          "ename": "NameError",
          "evalue": "ignored",
          "traceback": [
            "\u001b[0;31m---------------------------------------------------------------------------\u001b[0m",
            "\u001b[0;31mNameError\u001b[0m                                 Traceback (most recent call last)",
            "\u001b[0;32m<ipython-input-1-de1c3cc1d7d3>\u001b[0m in \u001b[0;36m<cell line: 1>\u001b[0;34m()\u001b[0m\n\u001b[0;32m----> 1\u001b[0;31m transform = transforms.Compose(\n\u001b[0m\u001b[1;32m      2\u001b[0m     [transforms.Resize((32,32)), #resize the image to height and width to 32\n\u001b[1;32m      3\u001b[0m     \u001b[0mtransforms\u001b[0m\u001b[0;34m.\u001b[0m\u001b[0mToTensor\u001b[0m\u001b[0;34m(\u001b[0m\u001b[0;34m)\u001b[0m\u001b[0;34m,\u001b[0m        \u001b[0;31m#store as tensor\u001b[0m\u001b[0;34m\u001b[0m\u001b[0;34m\u001b[0m\u001b[0m\n\u001b[1;32m      4\u001b[0m     \u001b[0mtransforms\u001b[0m\u001b[0;34m.\u001b[0m\u001b[0mNormalize\u001b[0m\u001b[0;34m(\u001b[0m\u001b[0;34m(\u001b[0m\u001b[0;36m0.5\u001b[0m\u001b[0;34m,\u001b[0m \u001b[0;36m0.5\u001b[0m\u001b[0;34m,\u001b[0m \u001b[0;36m0.5\u001b[0m\u001b[0;34m)\u001b[0m\u001b[0;34m,\u001b[0m \u001b[0;34m(\u001b[0m\u001b[0;36m0.5\u001b[0m\u001b[0;34m,\u001b[0m \u001b[0;36m0.5\u001b[0m\u001b[0;34m,\u001b[0m \u001b[0;36m0.5\u001b[0m\u001b[0;34m)\u001b[0m\u001b[0;34m)\u001b[0m\u001b[0;34m\u001b[0m\u001b[0;34m\u001b[0m\u001b[0m\n\u001b[1;32m      5\u001b[0m     ]\n",
            "\u001b[0;31mNameError\u001b[0m: name 'transforms' is not defined"
          ]
        }
      ]
    },
    {
      "cell_type": "code",
      "source": [
        "#parameters\n",
        "epochs = 10\n",
        "batch_size = 5\n",
        "test_predicted_metrics = []\n",
        "test_true_labels = []\n",
        "\n",
        "distance = CosineSimilarity()\n",
        "reducer = ThresholdReducer(high = 0.1)"
      ],
      "metadata": {
        "id": "aEkl0k48zzIc"
      },
      "execution_count": null,
      "outputs": []
    },
    {
      "cell_type": "code",
      "source": [
        "from google.colab import drive\n",
        "drive.mount('/content/drive')"
      ],
      "metadata": {
        "colab": {
          "base_uri": "https://localhost:8080/"
        },
        "id": "rZtsASaU0c-X",
        "outputId": "aa575612-b86b-4f8f-f6e1-f299f86170a8"
      },
      "execution_count": null,
      "outputs": [
        {
          "output_type": "stream",
          "name": "stdout",
          "text": [
            "Mounted at /content/drive\n"
          ]
        }
      ]
    },
    {
      "cell_type": "code",
      "source": [
        "trainset = torchvision.datasets.ImageFolder(root = './drive/MyDrive/DeerImage/train/', transform = transform)\n",
        "trainloader = torch.utils.data.DataLoader(trainset, batch_size = batch_size, shuffle=True,num_workers=0)"
      ],
      "metadata": {
        "id": "Ba19-HJN0oRF"
      },
      "execution_count": null,
      "outputs": []
    },
    {
      "cell_type": "code",
      "source": [
        "class Net(nn.Module):\n",
        "    def __init__(self):\n",
        "        super(Net, self).__init__()\n",
        "        self.conv1 = nn.Conv2d(3,6,5) #(in_channel,out_channel , kernal_size)\n",
        "        self.pool = nn.MaxPool2d(2,2)\n",
        "        self.conv2 = nn.Conv2d(6,16,5)\n",
        "        self.fc1 = nn.Linear(16*5*5,120)\n",
        "        self.fc2 = nn.Linear(120,84)\n",
        "        self.fc3 = nn.Linear(84,10)\n",
        "\n",
        "    def forward(self,x):\n",
        "        x = self.pool(F.relu(self.conv1(x)))\n",
        "        x = self.pool(F.relu(self.conv2(x)))\n",
        "        x = x.view(-1,16*5*5)\n",
        "        x = F.relu(self.fc1(x))\n",
        "        x = F.relu(self.fc2(x))\n",
        "        x = self.fc3(x)\n",
        "        return x\n",
        "net = Net()\n",
        "mining_func = miners.TripletMarginMiner(margin = 0.2, distance = distance)\n",
        "optimizer = optim.SGD(net.parameters(), lr = 0.001, momentum = 0.9)\n",
        "loss_func = losses.TripletMarginLoss()\n",
        "epochs = 10"
      ],
      "metadata": {
        "id": "wfY3j_1102Aw"
      },
      "execution_count": null,
      "outputs": []
    },
    {
      "cell_type": "code",
      "source": [
        "import torch\n",
        "import torchvision\n",
        "import torchvision.transforms as transforms\n",
        "import torch.nn as nn\n",
        "import torch.nn.functional as F\n",
        "import torch.optim as optim\n",
        "import matplotlib.pyplot as plt\n",
        "import numpy as np\n",
        "\n",
        "from pytorch_metric_learning import losses, miners, testers\n",
        "from pytorch_metric_learning.distances import CosineSimilarity\n",
        "from pytorch_metric_learning.reducers import ThresholdReducer\n",
        "from pytorch_metric_learning.utils.accuracy_calculator import AccuracyCalculator\n",
        "from pytorch_metric_learning.miners import TripletMarginMiner, BaseMiner\n",
        "from pytorch_metric_learning.losses import TripletMarginLoss\n",
        "from pytorch_metric_learning.utils import loss_and_miner_utils as lmu\n",
        "\n",
        "\n",
        "def labels_max(dataloader):\n",
        "    max_l = 0\n",
        "    for i, (inputs, labels) in enumerate(dataloader):\n",
        "        if max_l < labels.max():\n",
        "            max_l = labels.max().item()\n",
        "    return max_l\n",
        "\n"
      ],
      "metadata": {
        "id": "J1HQQP7c03e_"
      },
      "execution_count": null,
      "outputs": []
    },
    {
      "cell_type": "code",
      "source": [
        "def CenterOfClass(dataloader, max_label):\n",
        "    center_list = torch.empty(max_label+1, 10)\n",
        "    count = [0]*(max_label + 1)\n",
        "    list_ = []\n",
        "    for i, (inputs, labels) in enumerate(dataloader):\n",
        "        inputs, labels = inputs.to('cpu'), labels.to('cpu')\n",
        "        optimizer.zero_grad()\n",
        "        embeddings = net(inputs.to('cpu'))\n",
        "        for ind, l in enumerate(labels):\n",
        "            center_list[l.item()] = torch.add(center_list[l.item()], embeddings[ind])\n",
        "            count[l.item()] = count[l.item()]+1\n",
        "    for i, c in enumerate(count):\n",
        "        list_.append(torch.div(center_list[i], c))\n",
        "    return list_\n"
      ],
      "metadata": {
        "id": "vRMjwAlK1CJB"
      },
      "execution_count": null,
      "outputs": []
    },
    {
      "cell_type": "markdown",
      "source": [
        "修正"
      ],
      "metadata": {
        "id": "vLXKc4Uv19od"
      }
    },
    {
      "cell_type": "code",
      "source": [
        "from pytorch_metric_learning.miners import BaseMiner\n",
        "from pytorch_metric_learning.utils import loss_and_miner_utils as lmu\n",
        "\n",
        "class TestMiner(BaseMiner):\n",
        "    def __init__(self, margin=0.2, **kwargs):\n",
        "        super().__init__(**kwargs)\n",
        "        self.margin = margin\n",
        "        self.add_to_recordable_attributes(list_of_names=[\"margin\"], is_stat=False)\n",
        "\n",
        "    def mine(self, embeddings, labels, ref_emb, ref_labels):\n",
        "        a1, p, a2, n = lmu.get_all_pairs_indices(labels, ref_labels)\n",
        "\n",
        "        mat = self.distance(embeddings, ref_emb)\n",
        "        ap_dist = mat[a1, p]\n",
        "        np_dist = mat[a2, n]\n",
        "        pos_mask = (\n",
        "            ap_dist < self.margin\n",
        "            if self.distance.is_inverted\n",
        "            else ap_dist > self.margin\n",
        "        )\n",
        "        neg_mask = (\n",
        "            np_dist < self.margin\n",
        "            if self.distance.is_inverted\n",
        "            else np_dist > self.margin\n",
        "        )\n",
        "        return a1[pos_mask], p[pos_mask], a2[neg_mask], n[neg_mask]\n"
      ],
      "metadata": {
        "id": "D0RwpUw01H1M"
      },
      "execution_count": null,
      "outputs": []
    },
    {
      "cell_type": "code",
      "source": [
        "def get_center_pair(labels, center_a, center_n, ref_labels=None):\n",
        "    if ref_labels is None:\n",
        "        ref_labels = labels\n",
        "\n",
        "    a_label = torch.full((len(labels), ),  center_a)\n",
        "    a_label = a_label.unsqueeze(0)\n",
        "    print(\"a_label {}\".format(a_label))\n",
        "    if center_a == 0:\n",
        "        a_label1 = torch.full((len(labels), ),  1)\n",
        "    else:\n",
        "        a_label1 = torch.empty(len(labels))\n",
        "\n",
        "    n_label = torch.full((len(labels), ),  center_n)\n",
        "\n",
        "\n",
        "    a_label1[-1] = center_a\n",
        "    a_label1 = a_label1.unsqueeze(1)\n",
        "    #print(\"a_label1 {}\".format(a_label1))\n",
        "    a_maches = a_label == a_label1\n",
        "    #print(\"a_maches {}\".format(a_maches))\n",
        "\n",
        "\n",
        "\n",
        "    labels1 = labels.unsqueeze(1)\n",
        "    labels2 = ref_labels.unsqueeze(0)\n",
        "    n_label = n_label.unsqueeze(1)\n",
        "\n",
        "\n",
        "    #mask = labels2 == n_label\n",
        "    #print(\"mask: {}\".format(mask.size()))\n",
        "    #mask = torch.logical_and(mask, a_maches)\n",
        "\n",
        "\n",
        "    maches = (labels1 == labels2)\n",
        "    #print(\"maches: {}\".format(maches))\n",
        "    diffs = torch.logical_not(maches)\n",
        "    mask = (labels2 == n_label)\n",
        "\n",
        "\n",
        "    #print(\"diffs {}\".format(diffs))\n",
        "    #print(\"mask {}\".format(mask))\n",
        "\n",
        "    dummy_maches = torch.logical_and(maches, a_maches).byte()\n",
        "    #print(\"dummy_maches {}\".format(dummy_maches))\n",
        "    #dummy_diffs = torch.logical_and(diffs, mask).byte()\n",
        "    dummy_diffs_ = torch.logical_and(diffs, a_maches)\n",
        "    #print(\"dummy_diffs_ {}\".format(dummy_diffs_))\n",
        "    dummy_diffs = torch.logical_and(dummy_diffs_, mask).byte()\n",
        "    #print(\"dummy_diffs {}\".format(dummy_diffs))\n",
        "    if ref_labels is labels:\n",
        "        dummy_maches.fill_diagonal_(0)\n",
        "\n",
        "    d_anchor_idx1, d_p_idx = torch.where(dummy_maches)\n",
        "    d_anchor_idx2, d_n_idx = torch.where(dummy_diffs)\n",
        "\n",
        "\n",
        "    return d_anchor_idx1, d_p_idx, d_anchor_idx2, d_n_idx"
      ],
      "metadata": {
        "id": "1eM51I6m1yNT"
      },
      "execution_count": null,
      "outputs": []
    },
    {
      "cell_type": "markdown",
      "source": [
        "修正"
      ],
      "metadata": {
        "id": "pF6tzVsWVmJ7"
      }
    },
    {
      "cell_type": "code",
      "source": [
        "def Make_center(labels, embeddings, l, e):\n",
        "    l = torch.tensor((l,))\n",
        "    labels1 = torch.cat((labels, l), dim=0)\n",
        "    embeddings1 = torch.cat((embeddings, e.unsqueeze(0).clone()), dim = 0)\n",
        "    return labels1, embeddings1\n"
      ],
      "metadata": {
        "id": "3Q0GUV_RVkb2"
      },
      "execution_count": null,
      "outputs": []
    },
    {
      "cell_type": "markdown",
      "source": [],
      "metadata": {
        "id": "i_SGjdbYVlcG"
      }
    },
    {
      "cell_type": "code",
      "source": [
        "def Make_center_original(labels, embeddings, l, e):\n",
        "    l = torch.tensor((l,))\n",
        "    labels1 = torch.cat((labels, l), dim=0)\n",
        "    embeddings1 = torch.cat((embeddings, e.unsqueeze(0)), dim = 0)\n",
        "    return labels1, embeddings1\n",
        "\n",
        "\n",
        "\n"
      ],
      "metadata": {
        "id": "lsOso5pG11TI"
      },
      "execution_count": null,
      "outputs": []
    },
    {
      "cell_type": "markdown",
      "source": [
        "修正"
      ],
      "metadata": {
        "id": "1RUmOvNZ167t"
      }
    },
    {
      "cell_type": "code",
      "source": [
        "from pytorch_metric_learning.miners import BaseMiner\n",
        "\n",
        "class CenterMiner(BaseMiner):\n",
        "    def __init__(self, margin_a, margin_b, center_a, center_n, e_a, e_n, labels, embeddings, **kargs):\n",
        "        super().__init__(**kargs)\n",
        "        self.margin_a = margin_a\n",
        "        self.margin_b = margin_b\n",
        "        self.labels = labels\n",
        "        self.embeddings = embeddings\n",
        "        self.ca = center_a\n",
        "        self.cn = center_n\n",
        "        self.add_to_recordable_attributes(list_of_names=[\"margin_a\", \"margin_b\"], is_stat=False)\n",
        "\n",
        "    def mine(self, embeddings, labels):\n",
        "        a1, p, a2, n = get_center_pair(labels, self.ca, self.cn, self.labels)\n",
        "        print(\"a1 {}, p {}, a2 {}, n {}\".format(a1, p, a2, n))\n",
        "\n",
        "        mat = self.distance(embeddings, self.embeddings)\n",
        "        ap_dist = mat[a1, p]\n",
        "        an_dist = mat[a2, n]\n",
        "        pos_mask = (\n",
        "            ap_dist < self.margin_a\n",
        "            if self.distance.is_inverted\n",
        "            else ap_dist > self.margin_a\n",
        "        )\n",
        "        neg_mask = (\n",
        "            an_dist > self.margin_b\n",
        "            if self.distance.is_inverted\n",
        "            else an_dist < self.margin_b\n",
        "        )\n",
        "        return a1[pos_mask], p[pos_mask], a2[neg_mask], n[neg_mask]\n"
      ],
      "metadata": {
        "id": "A3qMuJzz15yc"
      },
      "execution_count": null,
      "outputs": []
    },
    {
      "cell_type": "code",
      "source": [
        "class AugmentedTripletMarginLoss_a(losses.BaseMetricLossFunction):\n",
        "    \"\"\"\n",
        "    Args:\n",
        "        margin: The desired difference between the anchor-positive distance and the\n",
        "                anchor-negative distance.\n",
        "        swap: Use the positive-negative distance instead of anchor-negative distance,\n",
        "              if it violates the margin more.\n",
        "        smooth_loss: Use the log-exp version of the triplet loss\n",
        "    \"\"\"\n",
        "\n",
        "    def __init__(\n",
        "        self,\n",
        "        margin=0.05,\n",
        "        swap=False,\n",
        "        smooth_loss=False,\n",
        "        triplets_per_anchor=\"all\",\n",
        "        **kwargs\n",
        "    ):\n",
        "        super().__init__(**kwargs)\n",
        "        self.margin = margin\n",
        "        self.swap = swap\n",
        "        self.smooth_loss = smooth_loss\n",
        "        self.triplets_per_anchor = triplets_per_anchor\n",
        "        self.add_to_recordable_attributes(list_of_names=[\"margin\"], is_stat=False)\n",
        "\n",
        "    def compute_loss(self, embeddings, labels, indices_tuple):\n",
        "        indices_tuple = lmu.convert_to_triplets(\n",
        "            indices_tuple, labels, t_per_anchor=self.triplets_per_anchor\n",
        "        )\n",
        "        anchor_idx, positive_idx, negative_idx = indices_tuple\n",
        "        if len(anchor_idx) == 0:\n",
        "            return self.zero_losses()\n",
        "        mat = self.distance(embeddings)\n",
        "        ap_dists = mat[anchor_idx, positive_idx]\n",
        "        an_dists = mat[anchor_idx, negative_idx]\n",
        "        if self.swap:\n",
        "            pn_dists = mat[positive_idx, negative_idx]\n",
        "            an_dists = self.distance.smallest_dist(an_dists, pn_dists)\n",
        "\n",
        "        violation = self.margin - ap_dists\n",
        "        if self.smooth_loss:\n",
        "            loss = torch.nn.functional.softplus(violation)\n",
        "        else:\n",
        "            loss = torch.nn.functional.relu(violation)\n",
        "\n",
        "        return {\n",
        "            \"loss\": {\n",
        "                \"losses\": loss,\n",
        "                \"indices\": indices_tuple,\n",
        "                \"reduction_type\": \"triplet\",\n",
        "            }\n",
        "        }\n",
        "\n",
        "    def get_default_reducer(self):\n",
        "        return AvgNonZeroReducer()\n",
        "class AugmentedTripletMarginLoss_a(losses.BaseMetricLossFunction):\n",
        "    \"\"\"\n",
        "    Args:\n",
        "        margin: The desired difference between the anchor-positive distance and the\n",
        "                anchor-negative distance.\n",
        "        swap: Use the positive-negative distance instead of anchor-negative distance,\n",
        "              if it violates the margin more.\n",
        "        smooth_loss: Use the log-exp version of the triplet loss\n",
        "    \"\"\"\n",
        "\n",
        "    def __init__(\n",
        "        self,\n",
        "        margin=0.05,\n",
        "        swap=False,\n",
        "        smooth_loss=False,\n",
        "        triplets_per_anchor=\"all\",\n",
        "        **kwargs\n",
        "    ):\n",
        "        super().__init__(**kwargs)\n",
        "        self.margin = margin\n",
        "        self.swap = swap\n",
        "        self.smooth_loss = smooth_loss\n",
        "        self.triplets_per_anchor = triplets_per_anchor\n",
        "        self.add_to_recordable_attributes(list_of_names=[\"margin\"], is_stat=False)\n",
        "\n",
        "    def compute_loss(self, embeddings, labels, indices_tuple):\n",
        "        indices_tuple = lmu.convert_to_triplets(\n",
        "            indices_tuple, labels, t_per_anchor=self.triplets_per_anchor\n",
        "        )\n",
        "        anchor_idx, positive_idx, negative_idx = indices_tuple\n",
        "        if len(anchor_idx) == 0:\n",
        "            return self.zero_losses()\n",
        "        mat = self.distance(embeddings)\n",
        "        ap_dists = mat[anchor_idx, positive_idx]\n",
        "        an_dists = mat[anchor_idx, negative_idx]\n",
        "        if self.swap:\n",
        "            pn_dists = mat[positive_idx, negative_idx]\n",
        "            an_dists = self.distance.smallest_dist(an_dists, pn_dists)\n",
        "\n",
        "        violation = self.margin - ap_dists\n",
        "        if self.smooth_loss:\n",
        "            loss = torch.nn.functional.softplus(violation)\n",
        "        else:\n",
        "            loss = torch.nn.functional.relu(violation)\n",
        "\n",
        "        return loss\n",
        "\n",
        "    def get_default_reducer(self):\n",
        "        return AvgNonZeroReducer()\n"
      ],
      "metadata": {
        "id": "QAsK5zl_2fIy"
      },
      "execution_count": null,
      "outputs": []
    },
    {
      "cell_type": "code",
      "source": [
        "class AugmentedTripletMarginLoss_b(losses.BaseMetricLossFunction):\n",
        "    \"\"\"\n",
        "    Args:\n",
        "        margin: The desired difference between the anchor-positive distance and the\n",
        "                anchor-negative distance.\n",
        "        swap: Use the positive-negative distance instead of anchor-negative distance,\n",
        "              if it violates the margin more.\n",
        "        smooth_loss: Use the log-exp version of the triplet loss\n",
        "    \"\"\"\n",
        "\n",
        "    def __init__(\n",
        "        self,\n",
        "        margin=0.05,\n",
        "        swap=False,\n",
        "        smooth_loss=False,\n",
        "        triplets_per_anchor=\"all\",\n",
        "        **kwargs\n",
        "    ):\n",
        "        super().__init__(**kwargs)\n",
        "        self.margin = margin\n",
        "        self.swap = swap\n",
        "        self.smooth_loss = smooth_loss\n",
        "        self.triplets_per_anchor = triplets_per_anchor\n",
        "        self.add_to_recordable_attributes(list_of_names=[\"margin\"], is_stat=False)\n",
        "\n",
        "    def compute_loss(self, embeddings, labels, indices_tuple):\n",
        "        indices_tuple = lmu.convert_to_triplets(\n",
        "            indices_tuple, labels, t_per_anchor=self.triplets_per_anchor\n",
        "        )\n",
        "        anchor_idx, positive_idx, negative_idx = indices_tuple\n",
        "        if len(anchor_idx) == 0:\n",
        "            return self.zero_losses()\n",
        "        mat = self.distance(embeddings)\n",
        "        ap_dists = mat[anchor_idx, positive_idx]\n",
        "        an_dists = mat[anchor_idx, negative_idx]\n",
        "        if self.swap:\n",
        "            pn_dists = mat[positive_idx, negative_idx]\n",
        "            an_dists = self.distance.smallest_dist(an_dists, pn_dists)\n",
        "\n",
        "\n",
        "        violation = an_dists - self.margin\n",
        "        if self.smooth_loss:\n",
        "            loss = torch.nn.functional.softplus(violation)\n",
        "        else:\n",
        "            loss = torch.nn.functional.relu(violation)\n",
        "\n",
        "        return loss\n",
        "\n",
        "    def get_default_reducer(self):\n",
        "        return AvgNonZeroReducer()\n"
      ],
      "metadata": {
        "id": "e0IGdY1u2iIp"
      },
      "execution_count": null,
      "outputs": []
    },
    {
      "cell_type": "markdown",
      "source": [
        "修正"
      ],
      "metadata": {
        "id": "NL3FAJuF2mX5"
      }
    },
    {
      "cell_type": "code",
      "source": [
        "def train(net,trainloader, mining_func, optimizer, epoch, weight1=0.5, weight2=0.5):\n",
        "    net.train()\n",
        "\n",
        "    if epoch <=10:#epoch % 10 == 9:\n",
        "        print(\"START\")\n",
        "        mining_func_test = TestMiner(margin = 0.85, distance = distance)\n",
        "        ml = labels_max(trainloader)\n",
        "        center_list = CenterOfClass(trainloader, ml)\n",
        "        center_embbed = torch.stack(center_list) # like a embbeddings\n",
        "        center_labels = torch.Tensor(range(ml + 1))\n",
        "\n",
        "        a1, p, a2, n  = mining_func_test(center_embbed, center_labels)\n",
        "        print(\"ViolatePair:a1 {}, p {}, a2 {}, n {}\".format(a1, p, a2, n))\n",
        "\n",
        "        print('-'*20)\n",
        "        print(a2)\n",
        "        print('-'*20)\n",
        "        #a2: n: closed class pair\n",
        "        for ind in range(len(a2)):\n",
        "            center = a2[ind].item()\n",
        "            diff_center = n[ind].item()\n",
        "            e1 = center_list[center]\n",
        "            e2 = center_list[diff_center]\n",
        "            for i , (inputs,labels) in enumerate(trainloader):\n",
        "              inputs, labels = inputs.to('cpu'), labels.to('cpu')\n",
        "              optimizer.zero_grad()\n",
        "              embeddings = net(inputs.to('cpu'))\n",
        "\n",
        "              labels, embeddings = Make_center(labels, embeddings, center, e1)\n",
        "              loss_func1 = AugmentedTripletMarginLoss_a()\n",
        "              loss_func2 = AugmentedTripletMarginLoss_b()\n",
        "                #__init__(self, margin_a, margin_b, center_a, center_n, e_a, e_n, labels, embeddings, **kargs):\n",
        "              cminer = CenterMiner(margin_a = 0.04, margin_b = 0.85, center_a = center, center_n = diff_center,e_a =e1, e_n = e2,labels =labels, embeddings = embeddings,  distance = distance)\n",
        "\n",
        "\n",
        "              indices_tuple = mining_func(embeddings, labels)\n",
        "              loss1 = loss_func1.compute_loss(embeddings, labels, indices_tuple)\n",
        "              loss2 = loss_func2.compute_loss(embeddings, labels, indices_tuple)\n",
        "              #from IPython.core.debugger import Pdb; Pdb().set_trace()#debug\n",
        "\n",
        "              loss = weight1 * loss1 + weight2 * loss2  # calculate the weighted sum of the two losses\n",
        "              optimizer.zero_grad()#graph initialize\n",
        "              loss.sum().backward(retain_graph=True)\n",
        "              optimizer.step()\n",
        "              print('ATL finished')\n",
        "\n",
        "    else:\n",
        "        for i , (inputs,labels) in enumerate(trainloader):\n",
        "\n",
        "            inputs,labels = inputs.to('cpu'),labels.to('cpu')   # get the inputs; data is a list of [inputs, labels]\n",
        "            optimizer.zero_grad() # zero the parameter gradients\n",
        "            embeddings = net(inputs.to('cpu'))\n",
        "\n",
        "            indices_tuple = mining_func(embeddings,labels)\n",
        "\n",
        "            # formed tuples from the dataset\n",
        "            loss = loss_func(embeddings,labels,indices_tuple) # in the loss function the tuples are used to output pair losses\n",
        "            loss.backward(retain_graph=True)\n",
        "            #print(type(loss))\n",
        "            optimizer.step()\n",
        "\n",
        "        print('Epoch {} Iteration{}: Loss = {}, Number of mined triplets = {}'.format(epoch,i,loss,mining_func.num_triplets))\n",
        "\n",
        "    print(\"training now\")"
      ],
      "metadata": {
        "id": "1gKCNV6j2nVP"
      },
      "execution_count": null,
      "outputs": []
    },
    {
      "cell_type": "markdown",
      "source": [
        "ATL分配ver"
      ],
      "metadata": {
        "id": "uoG7bChAfreK"
      }
    },
    {
      "cell_type": "code",
      "source": [
        "def train_withATL(net,trainloader, loss_func, mining_func, optimizer, epoch, weight1=0.5, weight2=0.5, rate=5):\n",
        "    net.train()\n",
        "\n",
        "    if epoch % rate == rate-1:#epoch % 10 == 9:\n",
        "      net.train()\n",
        "      print(\"START\")\n",
        "      optimizer.zero_grad()#graph initialize\n",
        "      mining_func_test = TestMiner(margin = 0.85, distance = distance)\n",
        "      ml = labels_max(trainloader)\n",
        "      center_list = CenterOfClass(trainloader, ml)\n",
        "      center_embbed = torch.stack(center_list) # like a embbeddings\n",
        "      center_labels = torch.Tensor(range(ml + 1))\n",
        "\n",
        "      a1, p, a2, n  = mining_func_test(center_embbed, center_labels)\n",
        "      print(\"ViolatePair:a1 {}, p {}, a2 {}, n {}\".format(a1, p, a2, n))\n",
        "\n",
        "      print('-'*20)\n",
        "      print(a2)\n",
        "      print('-'*20)\n",
        "      #a2: n: closed class pair\n",
        "      #optimizer.zero_grad()#graph initialize\n",
        "      for ind in range(len(a2)):\n",
        "          center = a2[ind].item()\n",
        "          diff_center = n[ind].item()\n",
        "          e1 = center_list[center]\n",
        "          e2 = center_list[diff_center]\n",
        "          for i , (inputs,labels) in enumerate(trainloader):\n",
        "            optimizer.zero_grad()#graph initialize\n",
        "            inputs, labels = inputs.to('cpu'), labels.to('cpu')\n",
        "            embeddings = net(inputs.to('cpu'))\n",
        "            labels, embeddings = Make_center(labels, embeddings, center, e1)\n",
        "            loss_func1 = AugmentedTripletMarginLoss_a()\n",
        "            loss_func2 = AugmentedTripletMarginLoss_b()\n",
        "              #__init__(self, margin_a, margin_b, center_a, center_n, e_a, e_n, labels, embeddings, **kargs):\n",
        "            cminer = CenterMiner(margin_a = 0.04, margin_b = 0.85, center_a = center, center_n = diff_center,e_a =e1, e_n = e2,labels =labels, embeddings = embeddings,  distance = distance)\n",
        "            indices_tuple = mining_func(embeddings, labels)\n",
        "            loss1 = loss_func1.compute_loss(embeddings, labels, indices_tuple)\n",
        "            loss2 = loss_func2.compute_loss(embeddings, labels, indices_tuple)\n",
        "            #from IPython.core.debugger import Pdb; Pdb().set_trace()#debug\n",
        "            loss = weight1 * loss1 + weight2 * loss2  # calculate the weighted sum of the two losses\n",
        "            loss.sum().backward()\n",
        "            #loss.sum().backward(retain_graph=True)\n",
        "            optimizer.step()\n",
        "            print('Epoch {}: Loss = {}, Number of mined triplets = {}'.format(epoch,loss,mining_func.num_triplets))\n",
        "            print('ATL finished')\n",
        "    else:\n",
        "        for i , (inputs,labels) in enumerate(trainloader):\n",
        "\n",
        "            inputs,labels = inputs.to('cpu'),labels.to('cpu')   # get the inputs; data is a list of [inputs, labels]\n",
        "            optimizer.zero_grad() # zero the parameter gradients\n",
        "            embeddings = net(inputs.to('cpu'))\n",
        "\n",
        "            indices_tuple = mining_func(embeddings,labels)\n",
        "\n",
        "            # formed tuples from the dataset\n",
        "            loss = loss_func(embeddings,labels,indices_tuple) # in the loss function the tuples are used to output pair losses\n",
        "            loss.backward(retain_graph=True)\n",
        "            #print(type(loss))\n",
        "            optimizer.step()\n",
        "\n",
        "        print('Epoch {} Iteration{}: Loss = {}, Number of mined triplets = {}'.format(epoch,i,loss,mining_func.num_triplets))\n",
        "\n",
        "    print(\"training now\")"
      ],
      "metadata": {
        "id": "ZCapF1WreqVU"
      },
      "execution_count": null,
      "outputs": []
    },
    {
      "cell_type": "markdown",
      "source": [
        "ATLだけ"
      ],
      "metadata": {
        "id": "t2HVgIMTR6m2"
      }
    },
    {
      "cell_type": "code",
      "source": [
        "def ATLtrain_origin(net,trainloader, mining_func, optimizer, epoch, weight1=0.5, weight2=0.5):\n",
        "    net.train()\n",
        "    print(\"START\")\n",
        "    optimizer.zero_grad()#graph initialize\n",
        "    mining_func_test = TestMiner(margin = 0.85, distance = distance)\n",
        "    ml = labels_max(trainloader)\n",
        "    center_list = CenterOfClass(trainloader, ml)\n",
        "    center_embbed = torch.stack(center_list) # like a embbeddings\n",
        "    center_labels = torch.Tensor(range(ml + 1))\n",
        "\n",
        "    a1, p, a2, n  = mining_func_test(center_embbed, center_labels)\n",
        "    print(\"ViolatePair:a1 {}, p {}, a2 {}, n {}\".format(a1, p, a2, n))\n",
        "\n",
        "    print('-'*20)\n",
        "    print(a2)\n",
        "    print('-'*20)\n",
        "    #a2: n: closed class pair\n",
        "    #optimizer.zero_grad()#graph initialize\n",
        "    for ind in range(len(a2)):\n",
        "        center = a2[ind].item()\n",
        "        diff_center = n[ind].item()\n",
        "        e1 = center_list[center]\n",
        "        e2 = center_list[diff_center]\n",
        "        for i , (inputs,labels) in enumerate(trainloader):\n",
        "          optimizer.zero_grad()#graph initialize\n",
        "          inputs, labels = inputs.to('cpu'), labels.to('cpu')\n",
        "          embeddings = net(inputs.to('cpu'))\n",
        "          labels, embeddings = Make_center(labels, embeddings, center, e1)\n",
        "          loss_func1 = AugmentedTripletMarginLoss_a()\n",
        "          loss_func2 = AugmentedTripletMarginLoss_b()\n",
        "            #__init__(self, margin_a, margin_b, center_a, center_n, e_a, e_n, labels, embeddings, **kargs):\n",
        "          cminer = CenterMiner(margin_a = 0.04, margin_b = 0.85, center_a = center, center_n = diff_center,e_a =e1, e_n = e2,labels =labels, embeddings = embeddings,  distance = distance)\n",
        "          indices_tuple = mining_func(embeddings, labels)\n",
        "          loss1 = loss_func1.compute_loss(embeddings, labels, indices_tuple)\n",
        "          loss2 = loss_func2.compute_loss(embeddings, labels, indices_tuple)\n",
        "          #from IPython.core.debugger import Pdb; Pdb().set_trace()#debug\n",
        "          loss = weight1 * loss1 + weight2 * loss2  # calculate the weighted sum of the two losses\n",
        "          loss.sum().backward()\n",
        "          #loss.sum().backward(retain_graph=True)\n",
        "          optimizer.step()\n",
        "          print('ATL finished')"
      ],
      "metadata": {
        "id": "c_1Z9Q5LR5iR"
      },
      "execution_count": null,
      "outputs": []
    },
    {
      "cell_type": "code",
      "source": [
        "def ATLtrain(net, trainloader, mining_func, optimizer, epoch, weight1=0.5, weight2=0.5):\n",
        "    net.train()\n",
        "    print(\"START\")\n",
        "    optimizer.zero_grad()  # graph initialize\n",
        "    mining_func_test = TestMiner(margin=0.85, distance=distance)\n",
        "    ml = labels_max(trainloader)\n",
        "    center_list = CenterOfClass(trainloader, ml)\n",
        "    center_embbed = torch.stack(center_list)  # like a embbeddings\n",
        "    center_labels = torch.Tensor(range(ml + 1))\n",
        "\n",
        "    a1, p, a2, n = mining_func_test(center_embbed, center_labels)\n",
        "    print(\"ViolatePair:a1 {}, p {}, a2 {}, n {}\".format(a1, p, a2, n))\n",
        "\n",
        "    print('-'*20)\n",
        "    print(a2)\n",
        "    print('-'*20)\n",
        "\n",
        "    for ind in range(len(a2)):\n",
        "        center = a2[ind].item()\n",
        "        diff_center = n[ind].item()\n",
        "        e1 = center_list[center]\n",
        "        e2 = center_list[diff_center]\n",
        "        for i, (inputs, labels) in enumerate(trainloader):\n",
        "            optimizer.zero_grad()  # graph initialize\n",
        "            inputs, labels = inputs.to('cpu'), labels.to('cpu')\n",
        "            embeddings = net(inputs.to('cpu'))\n",
        "            labels, embeddings = Make_center(labels, embeddings, center, e1)\n",
        "            loss_func1 = AugmentedTripletMarginLoss_a()\n",
        "            loss_func2 = AugmentedTripletMarginLoss_b()\n",
        "            # __init__(self, margin_a, margin_b, center_a, center_n, e_a, e_n, labels, embeddings, **kargs):\n",
        "            cminer = CenterMiner(margin_a=0.04, margin_b=0.85, center_a=center, center_n=diff_center, e_a=e1, e_n=e2, labels=labels, embeddings=embeddings, distance=distance)\n",
        "            indices_tuple = mining_func(embeddings, labels)\n",
        "            loss1 = loss_func1.compute_loss(embeddings, labels, indices_tuple)\n",
        "            loss2 = loss_func2.compute_loss(embeddings, labels, indices_tuple)\n",
        "            # from IPython.core.debugger import Pdb; Pdb().set_trace()#debug\n",
        "            loss = weight1 * loss1 + weight2 * loss2  # calculate the weighted sum of the two losses\n",
        "            loss.sum().backward()\n",
        "            optimizer.step()\n",
        "\n",
        "          #loss.sum().backward(retain_graph=True)\n",
        "\n"
      ],
      "metadata": {
        "id": "pYegvPFAYO4i"
      },
      "execution_count": null,
      "outputs": []
    },
    {
      "cell_type": "code",
      "source": [
        "for epoch in range (0, epochs):\n",
        "  ATLtrain(net,trainloader, mining_func, optimizer, epoch)\n",
        "print('finished')"
      ],
      "metadata": {
        "colab": {
          "base_uri": "https://localhost:8080/"
        },
        "id": "4g7hmb143hNT",
        "outputId": "c3905660-9d2b-411c-c06b-adec312d5685"
      },
      "execution_count": null,
      "outputs": [
        {
          "output_type": "stream",
          "name": "stdout",
          "text": [
            "START\n",
            "ViolatePair:a1 tensor([], dtype=torch.int64), p tensor([], dtype=torch.int64), a2 tensor([], dtype=torch.int64), n tensor([], dtype=torch.int64)\n",
            "--------------------\n",
            "tensor([], dtype=torch.int64)\n",
            "--------------------\n",
            "START\n",
            "ViolatePair:a1 tensor([], dtype=torch.int64), p tensor([], dtype=torch.int64), a2 tensor([], dtype=torch.int64), n tensor([], dtype=torch.int64)\n",
            "--------------------\n",
            "tensor([], dtype=torch.int64)\n",
            "--------------------\n",
            "START\n",
            "ViolatePair:a1 tensor([], dtype=torch.int64), p tensor([], dtype=torch.int64), a2 tensor([], dtype=torch.int64), n tensor([], dtype=torch.int64)\n",
            "--------------------\n",
            "tensor([], dtype=torch.int64)\n",
            "--------------------\n",
            "START\n",
            "ViolatePair:a1 tensor([], dtype=torch.int64), p tensor([], dtype=torch.int64), a2 tensor([], dtype=torch.int64), n tensor([], dtype=torch.int64)\n",
            "--------------------\n",
            "tensor([], dtype=torch.int64)\n",
            "--------------------\n",
            "START\n",
            "ViolatePair:a1 tensor([], dtype=torch.int64), p tensor([], dtype=torch.int64), a2 tensor([], dtype=torch.int64), n tensor([], dtype=torch.int64)\n",
            "--------------------\n",
            "tensor([], dtype=torch.int64)\n",
            "--------------------\n",
            "START\n",
            "ViolatePair:a1 tensor([], dtype=torch.int64), p tensor([], dtype=torch.int64), a2 tensor([], dtype=torch.int64), n tensor([], dtype=torch.int64)\n",
            "--------------------\n",
            "tensor([], dtype=torch.int64)\n",
            "--------------------\n",
            "START\n",
            "ViolatePair:a1 tensor([], dtype=torch.int64), p tensor([], dtype=torch.int64), a2 tensor([], dtype=torch.int64), n tensor([], dtype=torch.int64)\n",
            "--------------------\n",
            "tensor([], dtype=torch.int64)\n",
            "--------------------\n",
            "START\n",
            "ViolatePair:a1 tensor([], dtype=torch.int64), p tensor([], dtype=torch.int64), a2 tensor([], dtype=torch.int64), n tensor([], dtype=torch.int64)\n",
            "--------------------\n",
            "tensor([], dtype=torch.int64)\n",
            "--------------------\n",
            "START\n",
            "ViolatePair:a1 tensor([], dtype=torch.int64), p tensor([], dtype=torch.int64), a2 tensor([], dtype=torch.int64), n tensor([], dtype=torch.int64)\n",
            "--------------------\n",
            "tensor([], dtype=torch.int64)\n",
            "--------------------\n",
            "START\n",
            "ViolatePair:a1 tensor([], dtype=torch.int64), p tensor([], dtype=torch.int64), a2 tensor([], dtype=torch.int64), n tensor([], dtype=torch.int64)\n",
            "--------------------\n",
            "tensor([], dtype=torch.int64)\n",
            "--------------------\n",
            "finished\n"
          ]
        }
      ]
    },
    {
      "cell_type": "code",
      "source": [
        "torch.save(net.state_dict(), \"./train.pth\")"
      ],
      "metadata": {
        "id": "VFBcXYq0aHJK"
      },
      "execution_count": null,
      "outputs": []
    },
    {
      "cell_type": "code",
      "source": [
        "testset = torchvision.datasets.ImageFolder(root = './drive/MyDrive/DeerImage/test/', transform = transform)\n",
        "testloader = torch.utils.data.DataLoader(testset, batch_size = batch_size, shuffle = True, num_workers = 0)"
      ],
      "metadata": {
        "id": "Pl1vqhLwaIv6"
      },
      "execution_count": null,
      "outputs": []
    },
    {
      "cell_type": "code",
      "source": [
        "#test function\n",
        "\n",
        "def test(net,dataloader,epoch):\n",
        "    _predicted_metrics = []\n",
        "    _true_labels = []\n",
        "    #.eval() will notify all your layers that you are in eval mode, that way, batchnorm or dropout layers will work in eval mode instead of training mode.\n",
        "    #net.eval() #.eval() function in pytorch will turn off the layers/parts that behave differently during the training process.\n",
        "    with torch.no_grad():\n",
        "        for i,data in enumerate(dataloader):\n",
        "            images, labels = data\n",
        "            metric = net(images).detach().numpy()\n",
        "            metric = metric.reshape(metric.shape[0], metric.shape[1])\n",
        "            _predicted_metrics.append(metric)\n",
        "            _true_labels.append(labels.detach().cpu().numpy())\n",
        "    return np.concatenate(_predicted_metrics), np.concatenate(_true_labels)"
      ],
      "metadata": {
        "id": "fq-eyWIVaTzc"
      },
      "execution_count": null,
      "outputs": []
    },
    {
      "cell_type": "code",
      "source": [
        "def get_all_embeddings(dataloader, net):\n",
        "    tester = testers.BaseTester()\n",
        "    return tester.get_all_embeddings(dataloader, net)"
      ],
      "metadata": {
        "id": "zDOfu6-UaWZM"
      },
      "execution_count": null,
      "outputs": []
    },
    {
      "cell_type": "code",
      "source": [
        "def test_model(trainloader,testloader,net,accuracy_calculator):\n",
        "    train_embeddings, train_labels = get_all_embeddings(trainloader, net)\n",
        "    test_embeddings, test_labels = get_all_embeddings(testloader, net)\n",
        "    print(\"Computing accuracy\")\n",
        "    accuracies = accuracy_calculator.get_accuracy(test_embeddings,\n",
        "                                                train_embeddings,\n",
        "                                                test_labels,\n",
        "                                                train_labels,\n",
        "                                                False)\n",
        "    print(\"Test set accuracy (Precision@1) = {}\".format(accuracies[\"precision_at_1\"]))"
      ],
      "metadata": {
        "id": "YbgfwHvqaXHF"
      },
      "execution_count": null,
      "outputs": []
    },
    {
      "cell_type": "code",
      "source": [
        "test_predicted_metrics = []\n",
        "for epoch in range (0, epochs):\n",
        "#     print('Epoch {}/{}'.format(epoch,epochs))\n",
        "#     print('-'*10)\n",
        "    #train(net,trainloader, loss_func, mining_func, optimizer, epoch)\n",
        "    _tmp_metrics, _tmp_labels = test(net, testloader, epoch)\n",
        "    test_predicted_metrics.append(_tmp_metrics)\n",
        "    test_true_labels.append(_tmp_labels)\n",
        "print('finished')"
      ],
      "metadata": {
        "colab": {
          "base_uri": "https://localhost:8080/"
        },
        "id": "VxWrVxOnaZ5z",
        "outputId": "489d45a0-2753-4e8f-aee2-a76e00d48ae1"
      },
      "execution_count": null,
      "outputs": [
        {
          "output_type": "stream",
          "name": "stdout",
          "text": [
            "finished\n"
          ]
        }
      ]
    },
    {
      "cell_type": "code",
      "source": [
        "!pip install faiss-cpu\n",
        "import faiss\n",
        "\n"
      ],
      "metadata": {
        "colab": {
          "base_uri": "https://localhost:8080/"
        },
        "id": "HAjQ_2cyb-tU",
        "outputId": "63c4258a-34ac-455b-c678-bc85a3469150"
      },
      "execution_count": null,
      "outputs": [
        {
          "output_type": "stream",
          "name": "stdout",
          "text": [
            "Looking in indexes: https://pypi.org/simple, https://us-python.pkg.dev/colab-wheels/public/simple/\n",
            "Requirement already satisfied: faiss-cpu in /usr/local/lib/python3.9/dist-packages (1.7.3)\n"
          ]
        }
      ]
    },
    {
      "cell_type": "code",
      "source": [
        "from pytorch_metric_learning.utils.accuracy_calculator import AccuracyCalculator\n"
      ],
      "metadata": {
        "id": "9SJspS9xczWp"
      },
      "execution_count": null,
      "outputs": []
    },
    {
      "cell_type": "code",
      "source": [
        "import matplotlib.pyplot as plt\n",
        "from sklearn.manifold import TSNE\n",
        "\n",
        "tSNE_metrics = TSNE(n_components=2, random_state=0).fit_transform(test_predicted_metrics[-1])\n",
        "\n",
        "plt.scatter(tSNE_metrics[:, 0], tSNE_metrics[:, 1], c=test_true_labels[-1])\n",
        "plt.colorbar()\n",
        "plt.savefig(\"output.png\")\n",
        "plt.show()"
      ],
      "metadata": {
        "colab": {
          "base_uri": "https://localhost:8080/",
          "height": 269
        },
        "id": "X6cn4MfddikF",
        "outputId": "6c55030d-9716-4971-9ebe-e5296e045df3"
      },
      "execution_count": null,
      "outputs": [
        {
          "output_type": "display_data",
          "data": {
            "text/plain": [
              "<Figure size 432x288 with 2 Axes>"
            ],
            "image/png": "[encoded data removed]"
          },
          "metadata": {
            "needs_background": "light"
          }
        }
      ]
    },
    {
      "cell_type": "code",
      "source": [
        "\n",
        "net_ATL2 = Net()\n",
        "mining_func = miners.TripletMarginMiner(margin = 0.2, distance = distance)\n",
        "optimizer = optim.SGD(net.parameters(), lr = 0.001, momentum = 0.9)\n",
        "loss_func = losses.TripletMarginLoss()\n",
        "epochs = 10"
      ],
      "metadata": {
        "id": "pSRL8SjncaKy"
      },
      "execution_count": null,
      "outputs": []
    },
    {
      "cell_type": "markdown",
      "source": [
        "ATL分配テスト"
      ],
      "metadata": {
        "id": "4ytComldf_6W"
      }
    },
    {
      "cell_type": "code",
      "source": [
        "for epoch in range (0, epochs):\n",
        "  train_withATL(net_ATL2,trainloader, loss_func, mining_func, optimizer, epoch)\n",
        "print('finished')\n"
      ],
      "metadata": {
        "colab": {
          "base_uri": "https://localhost:8080/"
        },
        "id": "c42KBWDif9ba",
        "outputId": "893fc0b0-7053-46d2-e37d-68fb72eb0d9c"
      },
      "execution_count": null,
      "outputs": [
        {
          "output_type": "stream",
          "name": "stdout",
          "text": [
            "Epoch 0 Iteration0: Loss = 0.003207031637430191, Number of mined triplets = 12\n",
            "training now\n",
            "Epoch 1 Iteration0: Loss = 0.003207031637430191, Number of mined triplets = 12\n",
            "training now\n",
            "Epoch 2 Iteration0: Loss = 0.003207031637430191, Number of mined triplets = 12\n",
            "training now\n",
            "Epoch 3 Iteration0: Loss = 0.003207031637430191, Number of mined triplets = 12\n",
            "training now\n",
            "START\n",
            "ViolatePair:a1 tensor([], dtype=torch.int64), p tensor([], dtype=torch.int64), a2 tensor([], dtype=torch.int64), n tensor([], dtype=torch.int64)\n",
            "--------------------\n",
            "tensor([], dtype=torch.int64)\n",
            "--------------------\n",
            "training now\n",
            "Epoch 5 Iteration0: Loss = 0.003207031637430191, Number of mined triplets = 12\n",
            "training now\n",
            "Epoch 6 Iteration0: Loss = 0.003207031637430191, Number of mined triplets = 12\n",
            "training now\n",
            "Epoch 7 Iteration0: Loss = 0.003207031637430191, Number of mined triplets = 12\n",
            "training now\n",
            "Epoch 8 Iteration0: Loss = 0.003207031637430191, Number of mined triplets = 12\n",
            "training now\n",
            "START\n",
            "ViolatePair:a1 tensor([], dtype=torch.int64), p tensor([], dtype=torch.int64), a2 tensor([], dtype=torch.int64), n tensor([], dtype=torch.int64)\n",
            "--------------------\n",
            "tensor([], dtype=torch.int64)\n",
            "--------------------\n",
            "training now\n",
            "finished\n"
          ]
        }
      ]
    },
    {
      "cell_type": "code",
      "source": [
        "test_predicted_metrics_net_ATL2 = []\n",
        "test_true_labels_ATL2=[]\n",
        "for epoch in range (0, epochs):\n",
        "#     print('Epoch {}/{}'.format(epoch,epochs))\n",
        "#     print('-'*10)\n",
        "    #train(net,trainloader, loss_func, mining_func, optimizer, epoch)\n",
        "    _tmp_metrics2, _tmp_labels2 = test(net_ATL2, testloader, epoch)\n",
        "    test_predicted_metrics_net_ATL2.append(_tmp_metrics2)\n",
        "    test_true_labels_ATL2.append(_tmp_labels2)\n",
        "print('finished')"
      ],
      "metadata": {
        "colab": {
          "base_uri": "https://localhost:8080/"
        },
        "id": "IeV0GIDOhkPi",
        "outputId": "4513d41e-e71f-47ef-e832-a901dced1116"
      },
      "execution_count": null,
      "outputs": [
        {
          "output_type": "stream",
          "name": "stdout",
          "text": [
            "finished\n"
          ]
        }
      ]
    },
    {
      "cell_type": "code",
      "source": [
        "tSNE_metrics = TSNE(n_components=2, random_state=0).fit_transform(test_predicted_metrics_net_ATL2[-1])\n",
        "\n",
        "plt.scatter(tSNE_metrics[:, 0], tSNE_metrics[:, 1], c=test_true_labels_ATL2[-1])\n",
        "plt.colorbar()\n",
        "plt.savefig(\"output_ATL2.png\")\n",
        "plt.show()"
      ],
      "metadata": {
        "colab": {
          "base_uri": "https://localhost:8080/",
          "height": 269
        },
        "id": "PmKN99VDkLTi",
        "outputId": "e11ebec6-40c7-4452-8a66-7056bc75629b"
      },
      "execution_count": null,
      "outputs": [
        {
          "output_type": "display_data",
          "data": {
            "text/plain": [
              "<Figure size 432x288 with 2 Axes>"
            ],
            "image/png": "[encoded data removed]"
          },
          "metadata": {
            "needs_background": "light"
          }
        }
      ]
    }
  ]
}